{
 "cells": [
  {
   "cell_type": "markdown",
   "id": "7745d991",
   "metadata": {},
   "source": [
    "# Clustering Algorithms - K-Means, GMM, Bisecting K-Means"
   ]
  },
  {
   "cell_type": "markdown",
   "id": "5b2f72fb",
   "metadata": {},
   "source": [
    "Code written by - Malmurugan Sukumar ( Student ID: 862246504)"
   ]
  },
  {
   "cell_type": "markdown",
   "id": "b16f6ca3",
   "metadata": {},
   "source": [
    "In this notebook we implement clustering algorithms to group and "
   ]
  },
  {
   "cell_type": "code",
   "execution_count": 1,
   "id": "9a81ba4f",
   "metadata": {},
   "outputs": [],
   "source": [
    "import pandas as pd\n",
    "import numpy as np\n",
    "import seaborn as sb\n",
    "import matplotlib.pyplot as plt\n",
    "import warnings\n",
    "import os\n",
    "from csv import reader\n",
    "import time"
   ]
  },
  {
   "cell_type": "code",
   "execution_count": 2,
   "id": "94d5d25f",
   "metadata": {},
   "outputs": [],
   "source": [
    "import folium\n",
    "from folium.plugins import MarkerCluster"
   ]
  },
  {
   "cell_type": "code",
   "execution_count": 3,
   "id": "caa7c431",
   "metadata": {},
   "outputs": [],
   "source": [
    "from geopandas import GeoDataFrame\n",
    "from shapely.geometry import Point"
   ]
  },
  {
   "cell_type": "code",
   "execution_count": 4,
   "id": "fa9c655e",
   "metadata": {},
   "outputs": [],
   "source": [
    "from pyspark.ml.feature import VectorAssembler\n",
    "from pyspark.ml.feature import StandardScaler"
   ]
  },
  {
   "cell_type": "code",
   "execution_count": 5,
   "id": "50959c34",
   "metadata": {},
   "outputs": [],
   "source": [
    "from pyspark.sql import Row \n",
    "from pyspark.sql import SparkSession\n",
    "from pyspark.sql.types import FloatType, BooleanType\n",
    "from pyspark.sql.functions import to_timestamp, concat, lit, udf, upper, to_timestamp, to_date"
   ]
  },
  {
   "cell_type": "code",
   "execution_count": 6,
   "id": "7d3661c7",
   "metadata": {},
   "outputs": [],
   "source": [
    "from pyspark.ml.clustering import KMeans\n",
    "from pyspark.ml.clustering import GaussianMixture\n",
    "from pyspark.ml.evaluation import ClusteringEvaluator\n",
    "from pyspark.ml.clustering import BisectingKMeans"
   ]
  },
  {
   "cell_type": "markdown",
   "id": "dd751ed3",
   "metadata": {},
   "source": [
    "## Loading the data"
   ]
  },
  {
   "cell_type": "code",
   "execution_count": 7,
   "id": "1180b2e6",
   "metadata": {},
   "outputs": [],
   "source": [
    "spark = SparkSession \\\n",
    "    .builder \\\n",
    "    .appName(\"crime analysis\") \\\n",
    "    .config(\"spark.some.config.option\", \"some-value\") \\\n",
    "    .getOrCreate()"
   ]
  },
  {
   "cell_type": "code",
   "execution_count": 8,
   "id": "f969cced",
   "metadata": {},
   "outputs": [
    {
     "name": "stdout",
     "output_type": "stream",
     "text": [
      "Time to load data in Spark: 2.7048656940460205\n"
     ]
    }
   ],
   "source": [
    "startTime = time.time()\n",
    "\n",
    "df = spark.read.format(\"csv\").option(\"header\", \"true\").load(\"Crime_Data_from_2010_to_2019.csv\")\n",
    "\n",
    "executionTime = (time.time() - startTime)\n",
    "print('Time to load data in Spark: ' + str(executionTime))"
   ]
  },
  {
   "cell_type": "code",
   "execution_count": 9,
   "id": "eaa0c415",
   "metadata": {},
   "outputs": [],
   "source": [
    "df2 = df[[\"DR_NO\", \"Date Rptd\",\"TIME OCC\",\"Crm Cd Desc\",\"LAT\",\"LON\",\"AREA NAME\"]]\n",
    "df2 = df2.withColumnRenamed(\"AREA NAME\",\"AREANAME\")"
   ]
  },
  {
   "cell_type": "code",
   "execution_count": 10,
   "id": "2908df92",
   "metadata": {},
   "outputs": [],
   "source": [
    "df2_new = df2[(df2.AREANAME  == \"77th Street\") | (df2.AREANAME  == \"Southwest\") | (df2.AREANAME  == \"N Hollywood\")]"
   ]
  },
  {
   "cell_type": "code",
   "execution_count": 11,
   "id": "75242c6e",
   "metadata": {},
   "outputs": [],
   "source": [
    "df_lat = df2_new.select (df.LAT.cast(\"float\"), df.LON.cast(\"float\"))\n",
    "df_lat = df_lat.where(df_lat['LAT']!=0.0)\n",
    "df_lat = df_lat.where(df_lat['LON']!=0.0)"
   ]
  },
  {
   "cell_type": "code",
   "execution_count": 12,
   "id": "816d8188",
   "metadata": {},
   "outputs": [],
   "source": [
    "df_lat.createTempView(\"la_crime1\")"
   ]
  },
  {
   "cell_type": "code",
   "execution_count": 13,
   "id": "dc915f6e",
   "metadata": {},
   "outputs": [],
   "source": [
    "df_f = spark.sql(\"SELECT LAT, LON FROM la_crime1\")"
   ]
  },
  {
   "cell_type": "markdown",
   "id": "80832e45",
   "metadata": {},
   "source": [
    "## Transforming and Scaling the inputs"
   ]
  },
  {
   "cell_type": "code",
   "execution_count": 14,
   "id": "d3c603f5",
   "metadata": {},
   "outputs": [],
   "source": [
    "assembler = VectorAssembler(inputCols = df_f.columns, outputCol=\"features\")\n",
    "assembled = assembler.transform(df_f)\n",
    "\n",
    "scaler = StandardScaler(inputCol=\"features\", outputCol=\"scaledFeatures\", withStd=True, withMean=False)\n",
    "scaler_model = scaler.fit(assembled)\n",
    "assembled = scaler_model.transform(assembled)"
   ]
  },
  {
   "cell_type": "markdown",
   "id": "62127ddc",
   "metadata": {},
   "source": [
    "## K Means Clustering - Elbow Method"
   ]
  },
  {
   "cell_type": "markdown",
   "id": "db13532c",
   "metadata": {},
   "source": [
    "In this section, we will use K-Means clustering to finlaize the number of clusters (K) with <b> Elbow Method </b>"
   ]
  },
  {
   "cell_type": "code",
   "execution_count": 15,
   "id": "15221184",
   "metadata": {},
   "outputs": [],
   "source": [
    "cost = np.zeros(10)\n",
    "for k in range(2,10):\n",
    "    kmeans = KMeans().setK(k).setSeed(1).setFeaturesCol(\"scaledFeatures\")\n",
    "    model = kmeans.fit(assembled.sample(False,0.1, seed=42))\n",
    "    cost[k] = model.summary.trainingCost "
   ]
  },
  {
   "cell_type": "code",
   "execution_count": 16,
   "id": "a939e1af",
   "metadata": {
    "scrolled": false
   },
   "outputs": [
    {
     "data": {
      "image/png": "[encoded data removed]",
      "text/plain": [
       "<Figure size 1080x720 with 1 Axes>"
      ]
     },
     "metadata": {
      "needs_background": "light"
     },
     "output_type": "display_data"
    }
   ],
   "source": [
    "fig, ax = plt.subplots(figsize =(15,10))\n",
    "ax.plot(range(2,10),cost[2:10])\n",
    "ax.set_xlabel('k')\n",
    "ax.set_ylabel('cost')\n",
    "ax.set_title(\"Elbow Method\")\n",
    "plt.show()"
   ]
  },
  {
   "cell_type": "markdown",
   "id": "c6d221ca",
   "metadata": {},
   "source": [
    "The elbow point is at 3, so we finalize K = 3 for all our algorithms"
   ]
  },
  {
   "cell_type": "markdown",
   "id": "d7350141",
   "metadata": {},
   "source": [
    "## K-Means Clustering"
   ]
  },
  {
   "cell_type": "code",
   "execution_count": 17,
   "id": "4fe7ef5f",
   "metadata": {},
   "outputs": [
    {
     "name": "stdout",
     "output_type": "stream",
     "text": [
      "Execution time for Kmeans: 7.836184024810791\n"
     ]
    }
   ],
   "source": [
    "startTime = time.time()\n",
    "kmeans = KMeans().setK(3).setSeed(1)\n",
    "model0 = kmeans.fit(assembled)\n",
    "\n",
    "# Make predictions\n",
    "predictions0 = model0.transform(assembled)\n",
    "executionTime = (time.time() - startTime)\n",
    "print('Execution time for Kmeans: ' + str(executionTime))"
   ]
  },
  {
   "cell_type": "code",
   "execution_count": 18,
   "id": "9e15b4a4",
   "metadata": {},
   "outputs": [
    {
     "name": "stdout",
     "output_type": "stream",
     "text": [
      "0.6764917364762102\n"
     ]
    }
   ],
   "source": [
    "evaluator = ClusteringEvaluator()\n",
    "silhouette = evaluator.evaluate(predictions0)\n",
    "print(str(silhouette))"
   ]
  },
  {
   "cell_type": "code",
   "execution_count": 19,
   "id": "9f9413f5",
   "metadata": {},
   "outputs": [
    {
     "name": "stdout",
     "output_type": "stream",
     "text": [
      "Cluster Centers: \n",
      "[  33.97742605 -118.29232467]\n",
      "[  34.17271887 -118.38574691]\n",
      "[  34.01544115 -118.32087905]\n"
     ]
    }
   ],
   "source": [
    "centers = model0.clusterCenters()\n",
    "print(\"Cluster Centers: \")\n",
    "for center in centers:\n",
    "    print(center)"
   ]
  },
  {
   "cell_type": "code",
   "execution_count": 20,
   "id": "250fe421",
   "metadata": {},
   "outputs": [],
   "source": [
    "pt1 = [  33.97742605, -118.29232467]\n",
    "pt2 = [  34.17271887, -118.38574691]\n",
    "pt3 = [  34.01544115, -118.32087905]"
   ]
  },
  {
   "cell_type": "code",
   "execution_count": 21,
   "id": "768e28f5",
   "metadata": {},
   "outputs": [],
   "source": [
    "df_class_0 = predictions0.where(predictions0['prediction']==0)\n",
    "df_class_1 = predictions0.where(predictions0['prediction']==1)\n",
    "df_class_2 = predictions0.where(predictions0['prediction']==2)\n",
    "\n",
    "df_class_0_pd = df_class_0.toPandas()\n",
    "df_class_1_pd = df_class_1.toPandas()\n",
    "df_class_2_pd = df_class_2.toPandas()\n",
    "\n",
    "geometry0 = [Point(xy) for xy in zip(df_class_0_pd.LON, df_class_0_pd.LAT)]\n",
    "geometry1 = [Point(xy) for xy in zip(df_class_1_pd.LON, df_class_1_pd.LAT)]\n",
    "geometry2 = [Point(xy) for xy in zip(df_class_2_pd.LON, df_class_2_pd.LAT)]\n",
    "\n",
    "gdf0 = GeoDataFrame(df_class_0_pd, crs=\"EPSG:4326\", geometry=geometry0)\n",
    "gdf1 = GeoDataFrame(df_class_1_pd, crs=\"EPSG:4326\", geometry=geometry1)\n",
    "gdf2 = GeoDataFrame(df_class_2_pd, crs=\"EPSG:4326\", geometry=geometry2)\n",
    "poly0 = gdf0.unary_union.convex_hull\n",
    "poly1 = gdf1.unary_union.convex_hull\n",
    "poly2 = gdf2.unary_union.convex_hull"
   ]
  },
  {
   "cell_type": "code",
   "execution_count": 22,
   "id": "a0879ecb",
   "metadata": {},
   "outputs": [
    {
     "data": {
      "text/plain": [
       "<folium.map.Marker at 0x29b4d8977f0>"
      ]
     },
     "execution_count": 22,
     "metadata": {},
     "output_type": "execute_result"
    }
   ],
   "source": [
    "coords = [  34.03978986, -118.2734079 ]\n",
    "\n",
    "my_map0 = folium.Map(location = coords, zoom_start = 8)\n",
    "\n",
    "folium.Marker(pt1, popup = 'pt1').add_to(my_map0)\n",
    "folium.Marker(pt2, popup = 'pt2').add_to(my_map0)\n",
    "folium.Marker(pt3, popup = 'pt3').add_to(my_map0)"
   ]
  },
  {
   "cell_type": "code",
   "execution_count": 23,
   "id": "304c4165",
   "metadata": {},
   "outputs": [
    {
     "data": {
      "text/plain": [
       "<folium.features.GeoJson at 0x29b318e5d30>"
      ]
     },
     "execution_count": 23,
     "metadata": {},
     "output_type": "execute_result"
    }
   ],
   "source": [
    "folium.GeoJson(poly0).add_to(my_map0)\n",
    "folium.GeoJson(poly1).add_to(my_map0)\n",
    "folium.GeoJson(poly2).add_to(my_map0)"
   ]
  },
  {
   "cell_type": "code",
   "execution_count": 24,
   "id": "4906e9c2",
   "metadata": {
    "scrolled": true
   },
   "outputs": [
    {
     "data": {
      "text/html": [
       "<div style=\"width:100%;\"><div style=\"position:relative;width:100%;height:0;padding-bottom:60%;\"><span style=\"color:#565656\">Make this Notebook Trusted to load map: File -> Trust Notebook</span><iframe srcdoc=\"&lt;!DOCTYPE html&gt;\n",
       "&lt;html&gt;\n",
       "&lt;head&gt;\n",
       "    \n",
       "    &lt;meta http-equiv=&quot;content-type&quot; content=&quot;text/html; charset=UTF-8&quot; /&gt;\n",
       "    \n",
       "        &lt;script&gt;\n",
       "            L_NO_TOUCH = false;\n",
       "            L_DISABLE_3D = false;\n",
       "        &lt;/script&gt;\n",
       "    \n",
       "    &lt;style&gt;html, body {width: 100%;height: 100%;margin: 0;padding: 0;}&lt;/style&gt;\n",
       "    &lt;style&gt;#map {position:absolute;top:0;bottom:0;right:0;left:0;}&lt;/style&gt;\n",
       "    &lt;script src=&quot;https://cdn.jsdelivr.net/npm/leaflet@1.6.0/dist/leaflet.js&quot;&gt;&lt;/script&gt;\n",
       "    &lt;script src=&quot;https://code.jquery.com/jquery-1.12.4.min.js&quot;&gt;&lt;/script&gt;\n",
       "    &lt;script src=&quot;https://maxcdn.bootstrapcdn.com/bootstrap/3.2.0/js/bootstrap.min.js&quot;&gt;&lt;/script&gt;\n",
       "    &lt;script src=&quot;https://cdnjs.cloudflare.com/ajax/libs/Leaflet.awesome-markers/2.0.2/leaflet.awesome-markers.js&quot;&gt;&lt;/script&gt;\n",
       "    &lt;link rel=&quot;stylesheet&quot; href=&quot;https://cdn.jsdelivr.net/npm/leaflet@1.6.0/dist/leaflet.css&quot;/&gt;\n",
       "    &lt;link rel=&quot;stylesheet&quot; href=&quot;https://maxcdn.bootstrapcdn.com/bootstrap/3.2.0/css/bootstrap.min.css&quot;/&gt;\n",
       "    &lt;link rel=&quot;stylesheet&quot; href=&quot;https://maxcdn.bootstrapcdn.com/bootstrap/3.2.0/css/bootstrap-theme.min.css&quot;/&gt;\n",
       "    &lt;link rel=&quot;stylesheet&quot; href=&quot;https://maxcdn.bootstrapcdn.com/font-awesome/4.6.3/css/font-awesome.min.css&quot;/&gt;\n",
       "    &lt;link rel=&quot;stylesheet&quot; href=&quot;https://cdnjs.cloudflare.com/ajax/libs/Leaflet.awesome-markers/2.0.2/leaflet.awesome-markers.css&quot;/&gt;\n",
       "    &lt;link rel=&quot;stylesheet&quot; href=&quot;https://cdn.jsdelivr.net/gh/python-visualization/folium/folium/templates/leaflet.awesome.rotate.min.css&quot;/&gt;\n",
       "    \n",
       "            &lt;meta name=&quot;viewport&quot; content=&quot;width=device-width,\n",
       "                initial-scale=1.0, maximum-scale=1.0, user-scalable=no&quot; /&gt;\n",
       "            &lt;style&gt;\n",
       "                #map_1deb77f936f030cc1ab828124fbc7c10 {\n",
       "                    position: relative;\n",
       "                    width: 100.0%;\n",
       "                    height: 100.0%;\n",
       "                    left: 0.0%;\n",
       "                    top: 0.0%;\n",
       "                }\n",
       "            &lt;/style&gt;\n",
       "        \n",
       "&lt;/head&gt;\n",
       "&lt;body&gt;\n",
       "    \n",
       "    \n",
       "            &lt;div class=&quot;folium-map&quot; id=&quot;map_1deb77f936f030cc1ab828124fbc7c10&quot; &gt;&lt;/div&gt;\n",
       "        \n",
       "&lt;/body&gt;\n",
       "&lt;script&gt;\n",
       "    \n",
       "    \n",
       "            var map_1deb77f936f030cc1ab828124fbc7c10 = L.map(\n",
       "                &quot;map_1deb77f936f030cc1ab828124fbc7c10&quot;,\n",
       "                {\n",
       "                    center: [34.03978986, -118.2734079],\n",
       "                    crs: L.CRS.EPSG3857,\n",
       "                    zoom: 10,\n",
       "                    zoomControl: true,\n",
       "                    preferCanvas: false,\n",
       "                }\n",
       "            );\n",
       "\n",
       "            \n",
       "\n",
       "        \n",
       "    \n",
       "            var tile_layer_786a2b3ccbd3f84bb4bf066a1334368a = L.tileLayer(\n",
       "                &quot;https://{s}.tile.openstreetmap.org/{z}/{x}/{y}.png&quot;,\n",
       "                {&quot;attribution&quot;: &quot;Data by \\u0026copy; \\u003ca href=\\&quot;http://openstreetmap.org\\&quot;\\u003eOpenStreetMap\\u003c/a\\u003e, under \\u003ca href=\\&quot;http://www.openstreetmap.org/copyright\\&quot;\\u003eODbL\\u003c/a\\u003e.&quot;, &quot;detectRetina&quot;: false, &quot;maxNativeZoom&quot;: 18, &quot;maxZoom&quot;: 18, &quot;minZoom&quot;: 0, &quot;noWrap&quot;: false, &quot;opacity&quot;: 1, &quot;subdomains&quot;: &quot;abc&quot;, &quot;tms&quot;: false}\n",
       "            ).addTo(map_1deb77f936f030cc1ab828124fbc7c10);\n",
       "        \n",
       "    \n",
       "            var marker_5f214828500a6c355ac55cae24379e4d = L.marker(\n",
       "                [33.97742605, -118.29232467],\n",
       "                {}\n",
       "            ).addTo(map_1deb77f936f030cc1ab828124fbc7c10);\n",
       "        \n",
       "    \n",
       "        var popup_0991d67f57d275e83e30307893d4f8ef = L.popup({&quot;maxWidth&quot;: &quot;100%&quot;});\n",
       "\n",
       "        \n",
       "            \n",
       "                var html_dbe443475e9b7b06a0f244e316b7d77f = $(`&lt;div id=&quot;html_dbe443475e9b7b06a0f244e316b7d77f&quot; style=&quot;width: 100.0%; height: 100.0%;&quot;&gt;pt1&lt;/div&gt;`)[0];\n",
       "                popup_0991d67f57d275e83e30307893d4f8ef.setContent(html_dbe443475e9b7b06a0f244e316b7d77f);\n",
       "            \n",
       "        \n",
       "\n",
       "        marker_5f214828500a6c355ac55cae24379e4d.bindPopup(popup_0991d67f57d275e83e30307893d4f8ef)\n",
       "        ;\n",
       "\n",
       "        \n",
       "    \n",
       "    \n",
       "            var marker_9689e6e71c447e24eeb00708ee1b36e0 = L.marker(\n",
       "                [34.17271887, -118.38574691],\n",
       "                {}\n",
       "            ).addTo(map_1deb77f936f030cc1ab828124fbc7c10);\n",
       "        \n",
       "    \n",
       "        var popup_fd91b210e62bcf6b89d1293d0502ceca = L.popup({&quot;maxWidth&quot;: &quot;100%&quot;});\n",
       "\n",
       "        \n",
       "            \n",
       "                var html_7f7217722fb229fccb28b0517bcdfa48 = $(`&lt;div id=&quot;html_7f7217722fb229fccb28b0517bcdfa48&quot; style=&quot;width: 100.0%; height: 100.0%;&quot;&gt;pt2&lt;/div&gt;`)[0];\n",
       "                popup_fd91b210e62bcf6b89d1293d0502ceca.setContent(html_7f7217722fb229fccb28b0517bcdfa48);\n",
       "            \n",
       "        \n",
       "\n",
       "        marker_9689e6e71c447e24eeb00708ee1b36e0.bindPopup(popup_fd91b210e62bcf6b89d1293d0502ceca)\n",
       "        ;\n",
       "\n",
       "        \n",
       "    \n",
       "    \n",
       "            var marker_aa8dbda6f9f52cc9dd8c84002cd0d7a1 = L.marker(\n",
       "                [34.01544115, -118.32087905],\n",
       "                {}\n",
       "            ).addTo(map_1deb77f936f030cc1ab828124fbc7c10);\n",
       "        \n",
       "    \n",
       "        var popup_2774fd073751f19640c206163e43802f = L.popup({&quot;maxWidth&quot;: &quot;100%&quot;});\n",
       "\n",
       "        \n",
       "            \n",
       "                var html_dbe0f3de07bf9660d9ecfdbf08314fd2 = $(`&lt;div id=&quot;html_dbe0f3de07bf9660d9ecfdbf08314fd2&quot; style=&quot;width: 100.0%; height: 100.0%;&quot;&gt;pt3&lt;/div&gt;`)[0];\n",
       "                popup_2774fd073751f19640c206163e43802f.setContent(html_dbe0f3de07bf9660d9ecfdbf08314fd2);\n",
       "            \n",
       "        \n",
       "\n",
       "        marker_aa8dbda6f9f52cc9dd8c84002cd0d7a1.bindPopup(popup_2774fd073751f19640c206163e43802f)\n",
       "        ;\n",
       "\n",
       "        \n",
       "    \n",
       "    \n",
       "\n",
       "        function geo_json_af152bf60fc874247c36b47eae47bc73_onEachFeature(feature, layer) {\n",
       "            layer.on({\n",
       "            });\n",
       "        };\n",
       "        var geo_json_af152bf60fc874247c36b47eae47bc73 = L.geoJson(null, {\n",
       "                onEachFeature: geo_json_af152bf60fc874247c36b47eae47bc73_onEachFeature,\n",
       "            \n",
       "        });\n",
       "\n",
       "        function geo_json_af152bf60fc874247c36b47eae47bc73_add (data) {\n",
       "            geo_json_af152bf60fc874247c36b47eae47bc73\n",
       "                .addData(data)\n",
       "                .addTo(map_1deb77f936f030cc1ab828124fbc7c10);\n",
       "        }\n",
       "            geo_json_af152bf60fc874247c36b47eae47bc73_add({&quot;coordinates&quot;: [[[-118.28849792480469, 33.72060012817383], [-118.29019927978516, 33.7224006652832], [-118.40409851074219, 33.87269973754883], [-118.39939880371094, 33.919498443603516], [-118.33519744873047, 33.97489929199219], [-118.32350158691406, 33.983699798583984], [-118.31379699707031, 33.99100112915039], [-118.2968978881836, 34.003700256347656], [-118.28309631347656, 34.013999938964844], [-118.2488021850586, 34.038700103759766], [-118.1698989868164, 34.07619857788086], [-117.95020294189453, 34.02009963989258], [-117.88240051269531, 33.97520065307617], [-118.11900329589844, 33.80929946899414], [-118.28849792480469, 33.72060012817383]]], &quot;type&quot;: &quot;Polygon&quot;});\n",
       "\n",
       "        \n",
       "    \n",
       "\n",
       "        function geo_json_10587a077bfabc0e742d174c168c1ec0_onEachFeature(feature, layer) {\n",
       "            layer.on({\n",
       "            });\n",
       "        };\n",
       "        var geo_json_10587a077bfabc0e742d174c168c1ec0 = L.geoJson(null, {\n",
       "                onEachFeature: geo_json_10587a077bfabc0e742d174c168c1ec0_onEachFeature,\n",
       "            \n",
       "        });\n",
       "\n",
       "        function geo_json_10587a077bfabc0e742d174c168c1ec0_add (data) {\n",
       "            geo_json_10587a077bfabc0e742d174c168c1ec0\n",
       "                .addData(data)\n",
       "                .addTo(map_1deb77f936f030cc1ab828124fbc7c10);\n",
       "        }\n",
       "            geo_json_10587a077bfabc0e742d174c168c1ec0_add({&quot;coordinates&quot;: [[[-118.53849792480469, 34.03820037841797], [-118.5386962890625, 34.047000885009766], [-118.54049682617188, 34.2056999206543], [-118.50019836425781, 34.452598571777344], [-118.08789825439453, 34.70600128173828], [-118.06639862060547, 34.54180145263672], [-118.20230102539062, 34.213600158691406], [-118.33489990234375, 34.111900329589844], [-118.53849792480469, 34.03820037841797]]], &quot;type&quot;: &quot;Polygon&quot;});\n",
       "\n",
       "        \n",
       "    \n",
       "\n",
       "        function geo_json_4dd32c69f3b1dc19f6465e870065abae_onEachFeature(feature, layer) {\n",
       "            layer.on({\n",
       "            });\n",
       "        };\n",
       "        var geo_json_4dd32c69f3b1dc19f6465e870065abae = L.geoJson(null, {\n",
       "                onEachFeature: geo_json_4dd32c69f3b1dc19f6465e870065abae_onEachFeature,\n",
       "            \n",
       "        });\n",
       "\n",
       "        function geo_json_4dd32c69f3b1dc19f6465e870065abae_add (data) {\n",
       "            geo_json_4dd32c69f3b1dc19f6465e870065abae\n",
       "                .addData(data)\n",
       "                .addTo(map_1deb77f936f030cc1ab828124fbc7c10);\n",
       "        }\n",
       "            geo_json_4dd32c69f3b1dc19f6465e870065abae_add({&quot;coordinates&quot;: [[[-118.44969940185547, 33.957698822021484], [-118.49079895019531, 34.017398834228516], [-118.33580017089844, 34.07929992675781], [-118.22640228271484, 34.1151008605957], [-118.18309783935547, 34.12590026855469], [-118.13860321044922, 34.12540054321289], [-118.2698974609375, 34.02410125732422], [-118.29219818115234, 34.007301330566406], [-118.33090209960938, 33.97819900512695], [-118.33519744873047, 33.97560119628906], [-118.37449645996094, 33.96189880371094], [-118.44969940185547, 33.957698822021484]]], &quot;type&quot;: &quot;Polygon&quot;});\n",
       "\n",
       "        \n",
       "&lt;/script&gt;\n",
       "&lt;/html&gt;\" style=\"position:absolute;width:100%;height:100%;left:0;top:0;border:none !important;\" allowfullscreen webkitallowfullscreen mozallowfullscreen></iframe></div></div>"
      ],
      "text/plain": [
       "<folium.folium.Map at 0x29b3282c880>"
      ]
     },
     "execution_count": 24,
     "metadata": {},
     "output_type": "execute_result"
    }
   ],
   "source": [
    "my_map0"
   ]
  },
  {
   "cell_type": "markdown",
   "id": "7513bc58",
   "metadata": {},
   "source": [
    "## Gaussian Mixture Model"
   ]
  },
  {
   "cell_type": "code",
   "execution_count": 25,
   "id": "2cf183cc",
   "metadata": {
    "scrolled": true
   },
   "outputs": [
    {
     "name": "stdout",
     "output_type": "stream",
     "text": [
      "Execution time for GMM: 18.486242532730103\n"
     ]
    }
   ],
   "source": [
    "startTime = time.time()\n",
    "gmm = GaussianMixture().setK(4).setSeed(1)\n",
    "model1 = gmm.fit(assembled)\n",
    "\n",
    "\n",
    "# Make predictions\n",
    "predictions1 = model1.transform(assembled)\n",
    "executionTime = (time.time() - startTime)\n",
    "print('Execution time for GMM: ' + str(executionTime))"
   ]
  },
  {
   "cell_type": "code",
   "execution_count": 26,
   "id": "78e08ecc",
   "metadata": {},
   "outputs": [],
   "source": [
    "df_class_0 = predictions1.where(predictions1['prediction']==0)\n",
    "df_class_1 = predictions1.where(predictions1['prediction']==1)\n",
    "df_class_2 = predictions1.where(predictions1['prediction']==2)\n",
    "\n",
    "df_class_0_pd = df_class_0.toPandas()\n",
    "df_class_1_pd = df_class_1.toPandas()\n",
    "df_class_2_pd = df_class_2.toPandas()\n",
    "\n",
    "geometry0 = [Point(xy) for xy in zip(df_class_0_pd.LON, df_class_0_pd.LAT)]\n",
    "geometry1 = [Point(xy) for xy in zip(df_class_1_pd.LON, df_class_1_pd.LAT)]\n",
    "geometry2 = [Point(xy) for xy in zip(df_class_2_pd.LON, df_class_2_pd.LAT)]\n",
    "\n",
    "gdf0 = GeoDataFrame(df_class_0_pd, crs=\"EPSG:4326\", geometry=geometry0)\n",
    "gdf1 = GeoDataFrame(df_class_1_pd, crs=\"EPSG:4326\", geometry=geometry1)\n",
    "gdf2 = GeoDataFrame(df_class_2_pd, crs=\"EPSG:4326\", geometry=geometry2)\n",
    "poly0 = gdf0.unary_union.convex_hull\n",
    "poly1 = gdf1.unary_union.convex_hull\n",
    "poly2 = gdf2.unary_union.convex_hull"
   ]
  },
  {
   "cell_type": "code",
   "execution_count": 27,
   "id": "4a987614",
   "metadata": {
    "scrolled": true
   },
   "outputs": [
    {
     "name": "stdout",
     "output_type": "stream",
     "text": [
      "0.47246056944934134\n"
     ]
    }
   ],
   "source": [
    "evaluator = ClusteringEvaluator()\n",
    "silhouette = evaluator.evaluate(predictions1)\n",
    "print(str(silhouette))"
   ]
  },
  {
   "cell_type": "code",
   "execution_count": 28,
   "id": "2b0f89b9",
   "metadata": {
    "scrolled": true
   },
   "outputs": [],
   "source": [
    "coords = [  34.03978986, -118.2734079 ]\n",
    "\n",
    "my_map1 = folium.Map(location = coords, zoom_start = 8)"
   ]
  },
  {
   "cell_type": "code",
   "execution_count": 29,
   "id": "31e5dff6",
   "metadata": {
    "scrolled": true
   },
   "outputs": [
    {
     "data": {
      "text/html": [
       "<div style=\"width:100%;\"><div style=\"position:relative;width:100%;height:0;padding-bottom:60%;\"><span style=\"color:#565656\">Make this Notebook Trusted to load map: File -> Trust Notebook</span><iframe srcdoc=\"&lt;!DOCTYPE html&gt;\n",
       "&lt;html&gt;\n",
       "&lt;head&gt;\n",
       "    \n",
       "    &lt;meta http-equiv=&quot;content-type&quot; content=&quot;text/html; charset=UTF-8&quot; /&gt;\n",
       "    \n",
       "        &lt;script&gt;\n",
       "            L_NO_TOUCH = false;\n",
       "            L_DISABLE_3D = false;\n",
       "        &lt;/script&gt;\n",
       "    \n",
       "    &lt;style&gt;html, body {width: 100%;height: 100%;margin: 0;padding: 0;}&lt;/style&gt;\n",
       "    &lt;style&gt;#map {position:absolute;top:0;bottom:0;right:0;left:0;}&lt;/style&gt;\n",
       "    &lt;script src=&quot;https://cdn.jsdelivr.net/npm/leaflet@1.6.0/dist/leaflet.js&quot;&gt;&lt;/script&gt;\n",
       "    &lt;script src=&quot;https://code.jquery.com/jquery-1.12.4.min.js&quot;&gt;&lt;/script&gt;\n",
       "    &lt;script src=&quot;https://maxcdn.bootstrapcdn.com/bootstrap/3.2.0/js/bootstrap.min.js&quot;&gt;&lt;/script&gt;\n",
       "    &lt;script src=&quot;https://cdnjs.cloudflare.com/ajax/libs/Leaflet.awesome-markers/2.0.2/leaflet.awesome-markers.js&quot;&gt;&lt;/script&gt;\n",
       "    &lt;link rel=&quot;stylesheet&quot; href=&quot;https://cdn.jsdelivr.net/npm/leaflet@1.6.0/dist/leaflet.css&quot;/&gt;\n",
       "    &lt;link rel=&quot;stylesheet&quot; href=&quot;https://maxcdn.bootstrapcdn.com/bootstrap/3.2.0/css/bootstrap.min.css&quot;/&gt;\n",
       "    &lt;link rel=&quot;stylesheet&quot; href=&quot;https://maxcdn.bootstrapcdn.com/bootstrap/3.2.0/css/bootstrap-theme.min.css&quot;/&gt;\n",
       "    &lt;link rel=&quot;stylesheet&quot; href=&quot;https://maxcdn.bootstrapcdn.com/font-awesome/4.6.3/css/font-awesome.min.css&quot;/&gt;\n",
       "    &lt;link rel=&quot;stylesheet&quot; href=&quot;https://cdnjs.cloudflare.com/ajax/libs/Leaflet.awesome-markers/2.0.2/leaflet.awesome-markers.css&quot;/&gt;\n",
       "    &lt;link rel=&quot;stylesheet&quot; href=&quot;https://cdn.jsdelivr.net/gh/python-visualization/folium/folium/templates/leaflet.awesome.rotate.min.css&quot;/&gt;\n",
       "    \n",
       "            &lt;meta name=&quot;viewport&quot; content=&quot;width=device-width,\n",
       "                initial-scale=1.0, maximum-scale=1.0, user-scalable=no&quot; /&gt;\n",
       "            &lt;style&gt;\n",
       "                #map_f5d6abb273a9075f0aa9f7c49159c72c {\n",
       "                    position: relative;\n",
       "                    width: 100.0%;\n",
       "                    height: 100.0%;\n",
       "                    left: 0.0%;\n",
       "                    top: 0.0%;\n",
       "                }\n",
       "            &lt;/style&gt;\n",
       "        \n",
       "&lt;/head&gt;\n",
       "&lt;body&gt;\n",
       "    \n",
       "    \n",
       "            &lt;div class=&quot;folium-map&quot; id=&quot;map_f5d6abb273a9075f0aa9f7c49159c72c&quot; &gt;&lt;/div&gt;\n",
       "        \n",
       "&lt;/body&gt;\n",
       "&lt;script&gt;\n",
       "    \n",
       "    \n",
       "            var map_f5d6abb273a9075f0aa9f7c49159c72c = L.map(\n",
       "                &quot;map_f5d6abb273a9075f0aa9f7c49159c72c&quot;,\n",
       "                {\n",
       "                    center: [34.03978986, -118.2734079],\n",
       "                    crs: L.CRS.EPSG3857,\n",
       "                    zoom: 8,\n",
       "                    zoomControl: true,\n",
       "                    preferCanvas: false,\n",
       "                }\n",
       "            );\n",
       "\n",
       "            \n",
       "\n",
       "        \n",
       "    \n",
       "            var tile_layer_fe9ce4b41cc1b05054030f7c86751261 = L.tileLayer(\n",
       "                &quot;https://{s}.tile.openstreetmap.org/{z}/{x}/{y}.png&quot;,\n",
       "                {&quot;attribution&quot;: &quot;Data by \\u0026copy; \\u003ca href=\\&quot;http://openstreetmap.org\\&quot;\\u003eOpenStreetMap\\u003c/a\\u003e, under \\u003ca href=\\&quot;http://www.openstreetmap.org/copyright\\&quot;\\u003eODbL\\u003c/a\\u003e.&quot;, &quot;detectRetina&quot;: false, &quot;maxNativeZoom&quot;: 18, &quot;maxZoom&quot;: 18, &quot;minZoom&quot;: 0, &quot;noWrap&quot;: false, &quot;opacity&quot;: 1, &quot;subdomains&quot;: &quot;abc&quot;, &quot;tms&quot;: false}\n",
       "            ).addTo(map_f5d6abb273a9075f0aa9f7c49159c72c);\n",
       "        \n",
       "    \n",
       "\n",
       "        function geo_json_ca697705b4e289b6beb11540d777a84a_onEachFeature(feature, layer) {\n",
       "            layer.on({\n",
       "            });\n",
       "        };\n",
       "        var geo_json_ca697705b4e289b6beb11540d777a84a = L.geoJson(null, {\n",
       "                onEachFeature: geo_json_ca697705b4e289b6beb11540d777a84a_onEachFeature,\n",
       "            \n",
       "        });\n",
       "\n",
       "        function geo_json_ca697705b4e289b6beb11540d777a84a_add (data) {\n",
       "            geo_json_ca697705b4e289b6beb11540d777a84a\n",
       "                .addData(data)\n",
       "                .addTo(map_f5d6abb273a9075f0aa9f7c49159c72c);\n",
       "        }\n",
       "            geo_json_ca697705b4e289b6beb11540d777a84a_add({&quot;coordinates&quot;: [[[-118.28849792480469, 33.72060012817383], [-118.29019927978516, 33.7224006652832], [-118.53849792480469, 34.03820037841797], [-118.5386962890625, 34.047000885009766], [-118.50019836425781, 34.452598571777344], [-118.08789825439453, 34.70600128173828], [-117.88240051269531, 33.97520065307617], [-118.28849792480469, 33.72060012817383]]], &quot;type&quot;: &quot;Polygon&quot;});\n",
       "\n",
       "        \n",
       "    \n",
       "\n",
       "        function geo_json_68baf157e28d7b5ff954ad9cec30b97a_onEachFeature(feature, layer) {\n",
       "            layer.on({\n",
       "            });\n",
       "        };\n",
       "        var geo_json_68baf157e28d7b5ff954ad9cec30b97a = L.geoJson(null, {\n",
       "                onEachFeature: geo_json_68baf157e28d7b5ff954ad9cec30b97a_onEachFeature,\n",
       "            \n",
       "        });\n",
       "\n",
       "        function geo_json_68baf157e28d7b5ff954ad9cec30b97a_add (data) {\n",
       "            geo_json_68baf157e28d7b5ff954ad9cec30b97a\n",
       "                .addData(data)\n",
       "                .addTo(map_f5d6abb273a9075f0aa9f7c49159c72c);\n",
       "        }\n",
       "            geo_json_68baf157e28d7b5ff954ad9cec30b97a_add({&quot;coordinates&quot;: [[[-118.18070220947266, 33.77899932861328], [-118.2802963256836, 33.783199310302734], [-118.31990051269531, 33.819000244140625], [-118.39939880371094, 33.919498443603516], [-118.39790344238281, 33.99869918823242], [-118.39610290527344, 34.02899932861328], [-118.37139892578125, 34.0640983581543], [-118.29940032958984, 33.96160125732422], [-118.18070220947266, 33.77899932861328]]], &quot;type&quot;: &quot;Polygon&quot;});\n",
       "\n",
       "        \n",
       "    \n",
       "\n",
       "        function geo_json_28559300b21ce690c1a204c8db890762_onEachFeature(feature, layer) {\n",
       "            layer.on({\n",
       "            });\n",
       "        };\n",
       "        var geo_json_28559300b21ce690c1a204c8db890762 = L.geoJson(null, {\n",
       "                onEachFeature: geo_json_28559300b21ce690c1a204c8db890762_onEachFeature,\n",
       "            \n",
       "        });\n",
       "\n",
       "        function geo_json_28559300b21ce690c1a204c8db890762_add (data) {\n",
       "            geo_json_28559300b21ce690c1a204c8db890762\n",
       "                .addData(data)\n",
       "                .addTo(map_f5d6abb273a9075f0aa9f7c49159c72c);\n",
       "        }\n",
       "            geo_json_28559300b21ce690c1a204c8db890762_add({&quot;coordinates&quot;: [[[-118.33580017089844, 34.07929992675781], [-118.40470123291016, 34.11009979248047], [-118.51170349121094, 34.169498443603516], [-118.54049682617188, 34.2056999206543], [-118.46119689941406, 34.2953987121582], [-118.43550109863281, 34.32310104370117], [-118.3051986694336, 34.276100158691406], [-118.20230102539062, 34.213600158691406], [-118.18309783935547, 34.12590026855469], [-118.30290222167969, 34.0806999206543], [-118.33580017089844, 34.07929992675781]]], &quot;type&quot;: &quot;Polygon&quot;});\n",
       "\n",
       "        \n",
       "&lt;/script&gt;\n",
       "&lt;/html&gt;\" style=\"position:absolute;width:100%;height:100%;left:0;top:0;border:none !important;\" allowfullscreen webkitallowfullscreen mozallowfullscreen></iframe></div></div>"
      ],
      "text/plain": [
       "<folium.folium.Map at 0x29b4c0d3070>"
      ]
     },
     "execution_count": 29,
     "metadata": {},
     "output_type": "execute_result"
    }
   ],
   "source": [
    "folium.GeoJson(poly0).add_to(my_map1)\n",
    "folium.GeoJson(poly1).add_to(my_map1)\n",
    "folium.GeoJson(poly2).add_to(my_map1)\n",
    "\n",
    "my_map1"
   ]
  },
  {
   "cell_type": "markdown",
   "id": "5a3097af",
   "metadata": {},
   "source": [
    "# Bisecting K-Means"
   ]
  },
  {
   "cell_type": "code",
   "execution_count": 30,
   "id": "6be12166",
   "metadata": {},
   "outputs": [
    {
     "name": "stdout",
     "output_type": "stream",
     "text": [
      "Execution time for Bisecting Kmeans: 15.24085807800293\n"
     ]
    }
   ],
   "source": [
    "startTime = time.time()\n",
    "b_kmeans = BisectingKMeans().setK(3).setSeed(1)\n",
    "model2 = b_kmeans.fit(assembled)\n",
    "\n",
    "# Make predictions\n",
    "predictions2 = model2.transform(assembled)\n",
    "executionTime = (time.time() - startTime)\n",
    "print('Execution time for Bisecting Kmeans: ' + str(executionTime))"
   ]
  },
  {
   "cell_type": "code",
   "execution_count": 31,
   "id": "bd5e3bf2",
   "metadata": {},
   "outputs": [
    {
     "name": "stdout",
     "output_type": "stream",
     "text": [
      "0.6765367997424712\n"
     ]
    }
   ],
   "source": [
    "evaluator = ClusteringEvaluator()\n",
    "silhouette = evaluator.evaluate(predictions2)\n",
    "print(str(silhouette))"
   ]
  },
  {
   "cell_type": "code",
   "execution_count": 32,
   "id": "d0f7cbbc",
   "metadata": {},
   "outputs": [
    {
     "name": "stdout",
     "output_type": "stream",
     "text": [
      "Cluster Centers: \n",
      "[  34.01549459 -118.32095318]\n",
      "[  33.97752634 -118.29236074]\n",
      "[  34.17271887 -118.38574691]\n"
     ]
    }
   ],
   "source": [
    "centers = model2.clusterCenters()\n",
    "print(\"Cluster Centers: \")\n",
    "for center in centers:\n",
    "    print(center)"
   ]
  },
  {
   "cell_type": "code",
   "execution_count": 33,
   "id": "37a13a5f",
   "metadata": {},
   "outputs": [],
   "source": [
    "pt1_1 = [34.01549459, -118.32095318]\n",
    "pt2_1 = [33.97752634, -118.29236074]\n",
    "pt3_1 = [34.17271887, -118.38574691]"
   ]
  },
  {
   "cell_type": "code",
   "execution_count": 34,
   "id": "8410c042",
   "metadata": {},
   "outputs": [],
   "source": [
    "df_class_0 = predictions2.where(predictions2['prediction']==0)\n",
    "df_class_1 = predictions2.where(predictions2['prediction']==1)\n",
    "df_class_2 = predictions2.where(predictions2['prediction']==2)\n",
    "\n",
    "df_class_0_pd = df_class_0.toPandas()\n",
    "df_class_1_pd = df_class_1.toPandas()\n",
    "df_class_2_pd = df_class_2.toPandas()\n",
    "\n",
    "geometry0 = [Point(xy) for xy in zip(df_class_0_pd.LON, df_class_0_pd.LAT)]\n",
    "geometry1 = [Point(xy) for xy in zip(df_class_1_pd.LON, df_class_1_pd.LAT)]\n",
    "geometry2 = [Point(xy) for xy in zip(df_class_2_pd.LON, df_class_2_pd.LAT)]\n",
    "\n",
    "gdf0 = GeoDataFrame(df_class_0_pd, crs=\"EPSG:4326\", geometry=geometry0)\n",
    "gdf1 = GeoDataFrame(df_class_1_pd, crs=\"EPSG:4326\", geometry=geometry1)\n",
    "gdf2 = GeoDataFrame(df_class_2_pd, crs=\"EPSG:4326\", geometry=geometry2)\n",
    "poly0 = gdf0.unary_union.convex_hull\n",
    "poly1 = gdf1.unary_union.convex_hull\n",
    "poly2 = gdf2.unary_union.convex_hull"
   ]
  },
  {
   "cell_type": "code",
   "execution_count": 35,
   "id": "d2adc031",
   "metadata": {},
   "outputs": [
    {
     "data": {
      "text/plain": [
       "<folium.map.Marker at 0x29b60c1a550>"
      ]
     },
     "execution_count": 35,
     "metadata": {},
     "output_type": "execute_result"
    }
   ],
   "source": [
    "coords = [  34.03978986, -118.2734079 ]\n",
    "\n",
    "my_map2 = folium.Map(location = coords, zoom_start = 8)\n",
    "\n",
    "folium.GeoJson(poly0).add_to(my_map2)\n",
    "folium.GeoJson(poly1).add_to(my_map2)\n",
    "folium.GeoJson(poly2).add_to(my_map2)\n",
    "\n",
    "folium.Marker(pt1_1, popup = 'pt1').add_to(my_map2)\n",
    "folium.Marker(pt2_1, popup = 'pt2').add_to(my_map2)\n",
    "folium.Marker(pt3_1,popup = 'pt3').add_to(my_map2)\n"
   ]
  },
  {
   "cell_type": "code",
   "execution_count": 36,
   "id": "942c0bff",
   "metadata": {
    "scrolled": true
   },
   "outputs": [
    {
     "data": {
      "text/html": [
       "<div style=\"width:100%;\"><div style=\"position:relative;width:100%;height:0;padding-bottom:60%;\"><span style=\"color:#565656\">Make this Notebook Trusted to load map: File -> Trust Notebook</span><iframe srcdoc=\"&lt;!DOCTYPE html&gt;\n",
       "&lt;html&gt;\n",
       "&lt;head&gt;\n",
       "    \n",
       "    &lt;meta http-equiv=&quot;content-type&quot; content=&quot;text/html; charset=UTF-8&quot; /&gt;\n",
       "    \n",
       "        &lt;script&gt;\n",
       "            L_NO_TOUCH = false;\n",
       "            L_DISABLE_3D = false;\n",
       "        &lt;/script&gt;\n",
       "    \n",
       "    &lt;style&gt;html, body {width: 100%;height: 100%;margin: 0;padding: 0;}&lt;/style&gt;\n",
       "    &lt;style&gt;#map {position:absolute;top:0;bottom:0;right:0;left:0;}&lt;/style&gt;\n",
       "    &lt;script src=&quot;https://cdn.jsdelivr.net/npm/leaflet@1.6.0/dist/leaflet.js&quot;&gt;&lt;/script&gt;\n",
       "    &lt;script src=&quot;https://code.jquery.com/jquery-1.12.4.min.js&quot;&gt;&lt;/script&gt;\n",
       "    &lt;script src=&quot;https://maxcdn.bootstrapcdn.com/bootstrap/3.2.0/js/bootstrap.min.js&quot;&gt;&lt;/script&gt;\n",
       "    &lt;script src=&quot;https://cdnjs.cloudflare.com/ajax/libs/Leaflet.awesome-markers/2.0.2/leaflet.awesome-markers.js&quot;&gt;&lt;/script&gt;\n",
       "    &lt;link rel=&quot;stylesheet&quot; href=&quot;https://cdn.jsdelivr.net/npm/leaflet@1.6.0/dist/leaflet.css&quot;/&gt;\n",
       "    &lt;link rel=&quot;stylesheet&quot; href=&quot;https://maxcdn.bootstrapcdn.com/bootstrap/3.2.0/css/bootstrap.min.css&quot;/&gt;\n",
       "    &lt;link rel=&quot;stylesheet&quot; href=&quot;https://maxcdn.bootstrapcdn.com/bootstrap/3.2.0/css/bootstrap-theme.min.css&quot;/&gt;\n",
       "    &lt;link rel=&quot;stylesheet&quot; href=&quot;https://maxcdn.bootstrapcdn.com/font-awesome/4.6.3/css/font-awesome.min.css&quot;/&gt;\n",
       "    &lt;link rel=&quot;stylesheet&quot; href=&quot;https://cdnjs.cloudflare.com/ajax/libs/Leaflet.awesome-markers/2.0.2/leaflet.awesome-markers.css&quot;/&gt;\n",
       "    &lt;link rel=&quot;stylesheet&quot; href=&quot;https://cdn.jsdelivr.net/gh/python-visualization/folium/folium/templates/leaflet.awesome.rotate.min.css&quot;/&gt;\n",
       "    \n",
       "            &lt;meta name=&quot;viewport&quot; content=&quot;width=device-width,\n",
       "                initial-scale=1.0, maximum-scale=1.0, user-scalable=no&quot; /&gt;\n",
       "            &lt;style&gt;\n",
       "                #map_13c6dd2d1b113b803f1c95b705a6c7fa {\n",
       "                    position: relative;\n",
       "                    width: 100.0%;\n",
       "                    height: 100.0%;\n",
       "                    left: 0.0%;\n",
       "                    top: 0.0%;\n",
       "                }\n",
       "            &lt;/style&gt;\n",
       "        \n",
       "&lt;/head&gt;\n",
       "&lt;body&gt;\n",
       "    \n",
       "    \n",
       "            &lt;div class=&quot;folium-map&quot; id=&quot;map_13c6dd2d1b113b803f1c95b705a6c7fa&quot; &gt;&lt;/div&gt;\n",
       "        \n",
       "&lt;/body&gt;\n",
       "&lt;script&gt;\n",
       "    \n",
       "    \n",
       "            var map_13c6dd2d1b113b803f1c95b705a6c7fa = L.map(\n",
       "                &quot;map_13c6dd2d1b113b803f1c95b705a6c7fa&quot;,\n",
       "                {\n",
       "                    center: [34.03978986, -118.2734079],\n",
       "                    crs: L.CRS.EPSG3857,\n",
       "                    zoom: 13,\n",
       "                    zoomControl: true,\n",
       "                    preferCanvas: false,\n",
       "                }\n",
       "            );\n",
       "\n",
       "            \n",
       "\n",
       "        \n",
       "    \n",
       "            var tile_layer_dbe2354ad9e7f45c54cc704ec59a425e = L.tileLayer(\n",
       "                &quot;https://{s}.tile.openstreetmap.org/{z}/{x}/{y}.png&quot;,\n",
       "                {&quot;attribution&quot;: &quot;Data by \\u0026copy; \\u003ca href=\\&quot;http://openstreetmap.org\\&quot;\\u003eOpenStreetMap\\u003c/a\\u003e, under \\u003ca href=\\&quot;http://www.openstreetmap.org/copyright\\&quot;\\u003eODbL\\u003c/a\\u003e.&quot;, &quot;detectRetina&quot;: false, &quot;maxNativeZoom&quot;: 18, &quot;maxZoom&quot;: 18, &quot;minZoom&quot;: 0, &quot;noWrap&quot;: false, &quot;opacity&quot;: 1, &quot;subdomains&quot;: &quot;abc&quot;, &quot;tms&quot;: false}\n",
       "            ).addTo(map_13c6dd2d1b113b803f1c95b705a6c7fa);\n",
       "        \n",
       "    \n",
       "\n",
       "        function geo_json_614ac486bc773b65b19ad19e07aaa114_onEachFeature(feature, layer) {\n",
       "            layer.on({\n",
       "            });\n",
       "        };\n",
       "        var geo_json_614ac486bc773b65b19ad19e07aaa114 = L.geoJson(null, {\n",
       "                onEachFeature: geo_json_614ac486bc773b65b19ad19e07aaa114_onEachFeature,\n",
       "            \n",
       "        });\n",
       "\n",
       "        function geo_json_614ac486bc773b65b19ad19e07aaa114_add (data) {\n",
       "            geo_json_614ac486bc773b65b19ad19e07aaa114\n",
       "                .addData(data)\n",
       "                .addTo(map_13c6dd2d1b113b803f1c95b705a6c7fa);\n",
       "        }\n",
       "            geo_json_614ac486bc773b65b19ad19e07aaa114_add({&quot;coordinates&quot;: [[[-118.44969940185547, 33.957698822021484], [-118.49079895019531, 34.017398834228516], [-118.33580017089844, 34.07929992675781], [-118.22640228271484, 34.1151008605957], [-118.18309783935547, 34.12590026855469], [-118.13860321044922, 34.12540054321289], [-118.2947998046875, 34.00550079345703], [-118.30069732666016, 34.000999450683594], [-118.3279037475586, 33.98059844970703], [-118.33519744873047, 33.97560119628906], [-118.37449645996094, 33.96189880371094], [-118.44969940185547, 33.957698822021484]]], &quot;type&quot;: &quot;Polygon&quot;});\n",
       "\n",
       "        \n",
       "    \n",
       "\n",
       "        function geo_json_d59cc020d532fdde2f07d00cb4d4cc5b_onEachFeature(feature, layer) {\n",
       "            layer.on({\n",
       "            });\n",
       "        };\n",
       "        var geo_json_d59cc020d532fdde2f07d00cb4d4cc5b = L.geoJson(null, {\n",
       "                onEachFeature: geo_json_d59cc020d532fdde2f07d00cb4d4cc5b_onEachFeature,\n",
       "            \n",
       "        });\n",
       "\n",
       "        function geo_json_d59cc020d532fdde2f07d00cb4d4cc5b_add (data) {\n",
       "            geo_json_d59cc020d532fdde2f07d00cb4d4cc5b\n",
       "                .addData(data)\n",
       "                .addTo(map_13c6dd2d1b113b803f1c95b705a6c7fa);\n",
       "        }\n",
       "            geo_json_d59cc020d532fdde2f07d00cb4d4cc5b_add({&quot;coordinates&quot;: [[[-118.28849792480469, 33.72060012817383], [-118.29019927978516, 33.7224006652832], [-118.40409851074219, 33.87269973754883], [-118.39939880371094, 33.919498443603516], [-118.33519744873047, 33.97489929199219], [-118.33090209960938, 33.97819900512695], [-118.3125991821289, 33.992000579833984], [-118.28720092773438, 34.01110076904297], [-118.2698974609375, 34.02410125732422], [-118.2488021850586, 34.038700103759766], [-118.1698989868164, 34.07619857788086], [-117.95020294189453, 34.02009963989258], [-117.88240051269531, 33.97520065307617], [-118.11900329589844, 33.80929946899414], [-118.28849792480469, 33.72060012817383]]], &quot;type&quot;: &quot;Polygon&quot;});\n",
       "\n",
       "        \n",
       "    \n",
       "\n",
       "        function geo_json_6dbe0cd8ec1a0cde6059d9c18f5fbaa0_onEachFeature(feature, layer) {\n",
       "            layer.on({\n",
       "            });\n",
       "        };\n",
       "        var geo_json_6dbe0cd8ec1a0cde6059d9c18f5fbaa0 = L.geoJson(null, {\n",
       "                onEachFeature: geo_json_6dbe0cd8ec1a0cde6059d9c18f5fbaa0_onEachFeature,\n",
       "            \n",
       "        });\n",
       "\n",
       "        function geo_json_6dbe0cd8ec1a0cde6059d9c18f5fbaa0_add (data) {\n",
       "            geo_json_6dbe0cd8ec1a0cde6059d9c18f5fbaa0\n",
       "                .addData(data)\n",
       "                .addTo(map_13c6dd2d1b113b803f1c95b705a6c7fa);\n",
       "        }\n",
       "            geo_json_6dbe0cd8ec1a0cde6059d9c18f5fbaa0_add({&quot;coordinates&quot;: [[[-118.53849792480469, 34.03820037841797], [-118.5386962890625, 34.047000885009766], [-118.54049682617188, 34.2056999206543], [-118.50019836425781, 34.452598571777344], [-118.08789825439453, 34.70600128173828], [-118.06639862060547, 34.54180145263672], [-118.20230102539062, 34.213600158691406], [-118.33489990234375, 34.111900329589844], [-118.53849792480469, 34.03820037841797]]], &quot;type&quot;: &quot;Polygon&quot;});\n",
       "\n",
       "        \n",
       "    \n",
       "            var marker_1243dfbd968713fb91fd16c5d7944cad = L.marker(\n",
       "                [34.01549459, -118.32095318],\n",
       "                {}\n",
       "            ).addTo(map_13c6dd2d1b113b803f1c95b705a6c7fa);\n",
       "        \n",
       "    \n",
       "        var popup_e13b71cb9bca04336d496ea829cf6899 = L.popup({&quot;maxWidth&quot;: &quot;100%&quot;});\n",
       "\n",
       "        \n",
       "            \n",
       "                var html_3ad17de996aa30af178aec3050e767ff = $(`&lt;div id=&quot;html_3ad17de996aa30af178aec3050e767ff&quot; style=&quot;width: 100.0%; height: 100.0%;&quot;&gt;pt1&lt;/div&gt;`)[0];\n",
       "                popup_e13b71cb9bca04336d496ea829cf6899.setContent(html_3ad17de996aa30af178aec3050e767ff);\n",
       "            \n",
       "        \n",
       "\n",
       "        marker_1243dfbd968713fb91fd16c5d7944cad.bindPopup(popup_e13b71cb9bca04336d496ea829cf6899)\n",
       "        ;\n",
       "\n",
       "        \n",
       "    \n",
       "    \n",
       "            var marker_b5c94645faef4d6f59f5444ea6915ad9 = L.marker(\n",
       "                [33.97752634, -118.29236074],\n",
       "                {}\n",
       "            ).addTo(map_13c6dd2d1b113b803f1c95b705a6c7fa);\n",
       "        \n",
       "    \n",
       "        var popup_572b54ffc46105832204e5a0afb7f48b = L.popup({&quot;maxWidth&quot;: &quot;100%&quot;});\n",
       "\n",
       "        \n",
       "            \n",
       "                var html_72c27f241c4a8deda0174bda784465a3 = $(`&lt;div id=&quot;html_72c27f241c4a8deda0174bda784465a3&quot; style=&quot;width: 100.0%; height: 100.0%;&quot;&gt;pt2&lt;/div&gt;`)[0];\n",
       "                popup_572b54ffc46105832204e5a0afb7f48b.setContent(html_72c27f241c4a8deda0174bda784465a3);\n",
       "            \n",
       "        \n",
       "\n",
       "        marker_b5c94645faef4d6f59f5444ea6915ad9.bindPopup(popup_572b54ffc46105832204e5a0afb7f48b)\n",
       "        ;\n",
       "\n",
       "        \n",
       "    \n",
       "    \n",
       "            var marker_ccb027bf6d389f4f5e0b4480c4a62999 = L.marker(\n",
       "                [34.17271887, -118.38574691],\n",
       "                {}\n",
       "            ).addTo(map_13c6dd2d1b113b803f1c95b705a6c7fa);\n",
       "        \n",
       "    \n",
       "        var popup_ac0b9e7023fbf579a2769f17dc261ad4 = L.popup({&quot;maxWidth&quot;: &quot;100%&quot;});\n",
       "\n",
       "        \n",
       "            \n",
       "                var html_67e577ffae24c46590345bef4be481fd = $(`&lt;div id=&quot;html_67e577ffae24c46590345bef4be481fd&quot; style=&quot;width: 100.0%; height: 100.0%;&quot;&gt;pt3&lt;/div&gt;`)[0];\n",
       "                popup_ac0b9e7023fbf579a2769f17dc261ad4.setContent(html_67e577ffae24c46590345bef4be481fd);\n",
       "            \n",
       "        \n",
       "\n",
       "        marker_ccb027bf6d389f4f5e0b4480c4a62999.bindPopup(popup_ac0b9e7023fbf579a2769f17dc261ad4)\n",
       "        ;\n",
       "\n",
       "        \n",
       "    \n",
       "&lt;/script&gt;\n",
       "&lt;/html&gt;\" style=\"position:absolute;width:100%;height:100%;left:0;top:0;border:none !important;\" allowfullscreen webkitallowfullscreen mozallowfullscreen></iframe></div></div>"
      ],
      "text/plain": [
       "<folium.folium.Map at 0x29b59aef070>"
      ]
     },
     "execution_count": 36,
     "metadata": {},
     "output_type": "execute_result"
    }
   ],
   "source": [
    "my_map2"
   ]
  },
  {
   "cell_type": "markdown",
   "id": "a7432fbd",
   "metadata": {},
   "source": [
    "## Implementing Models with Pandas for comparision"
   ]
  },
  {
   "cell_type": "markdown",
   "id": "289e6b60",
   "metadata": {},
   "source": [
    "<b>Note: All operations following this will be solely used to compare execution time of PySpark MLib with Pandas ML library.<b>"
   ]
  },
  {
   "cell_type": "code",
   "execution_count": 38,
   "id": "ba380bab",
   "metadata": {
    "scrolled": true
   },
   "outputs": [
    {
     "name": "stdout",
     "output_type": "stream",
     "text": [
      "Time to load Data in Pandas: 9.48651933670044\n"
     ]
    }
   ],
   "source": [
    "startTime = time.time()\n",
    "\n",
    "crime_df = pd.read_csv('Crime_Data_from_2010_to_2019.csv')\n",
    "\n",
    "executionTime = (time.time() - startTime)\n",
    "print('Time to load Data in Pandas: ' + str(executionTime))"
   ]
  },
  {
   "cell_type": "code",
   "execution_count": 39,
   "id": "5f3bd66e",
   "metadata": {
    "scrolled": true
   },
   "outputs": [
    {
     "data": {
      "text/html": [
       "<div>\n",
       "<style scoped>\n",
       "    .dataframe tbody tr th:only-of-type {\n",
       "        vertical-align: middle;\n",
       "    }\n",
       "\n",
       "    .dataframe tbody tr th {\n",
       "        vertical-align: top;\n",
       "    }\n",
       "\n",
       "    .dataframe thead th {\n",
       "        text-align: right;\n",
       "    }\n",
       "</style>\n",
       "<table border=\"1\" class=\"dataframe\">\n",
       "  <thead>\n",
       "    <tr style=\"text-align: right;\">\n",
       "      <th></th>\n",
       "      <th>DR_NO</th>\n",
       "      <th>Date Rptd</th>\n",
       "      <th>DATE OCC</th>\n",
       "      <th>TIME OCC</th>\n",
       "      <th>AREA</th>\n",
       "      <th>AREA NAME</th>\n",
       "      <th>Rpt Dist No</th>\n",
       "      <th>Part 1-2</th>\n",
       "      <th>Crm Cd</th>\n",
       "      <th>Crm Cd Desc</th>\n",
       "      <th>...</th>\n",
       "      <th>Status</th>\n",
       "      <th>Status Desc</th>\n",
       "      <th>Crm Cd 1</th>\n",
       "      <th>Crm Cd 2</th>\n",
       "      <th>Crm Cd 3</th>\n",
       "      <th>Crm Cd 4</th>\n",
       "      <th>LOCATION</th>\n",
       "      <th>Cross Street</th>\n",
       "      <th>LAT</th>\n",
       "      <th>LON</th>\n",
       "    </tr>\n",
       "  </thead>\n",
       "  <tbody>\n",
       "    <tr>\n",
       "      <th>0</th>\n",
       "      <td>1307355</td>\n",
       "      <td>02/20/2010 12:00:00 AM</td>\n",
       "      <td>02/20/2010 12:00:00 AM</td>\n",
       "      <td>1350</td>\n",
       "      <td>13</td>\n",
       "      <td>Newton</td>\n",
       "      <td>1385</td>\n",
       "      <td>2</td>\n",
       "      <td>900</td>\n",
       "      <td>VIOLATION OF COURT ORDER</td>\n",
       "      <td>...</td>\n",
       "      <td>AA</td>\n",
       "      <td>Adult Arrest</td>\n",
       "      <td>900.0</td>\n",
       "      <td>NaN</td>\n",
       "      <td>NaN</td>\n",
       "      <td>NaN</td>\n",
       "      <td>300 E  GAGE                         AV</td>\n",
       "      <td>NaN</td>\n",
       "      <td>33.9825</td>\n",
       "      <td>-118.2695</td>\n",
       "    </tr>\n",
       "    <tr>\n",
       "      <th>1</th>\n",
       "      <td>11401303</td>\n",
       "      <td>09/13/2010 12:00:00 AM</td>\n",
       "      <td>09/12/2010 12:00:00 AM</td>\n",
       "      <td>45</td>\n",
       "      <td>14</td>\n",
       "      <td>Pacific</td>\n",
       "      <td>1485</td>\n",
       "      <td>2</td>\n",
       "      <td>740</td>\n",
       "      <td>VANDALISM - FELONY ($400 &amp; OVER, ALL CHURCH VA...</td>\n",
       "      <td>...</td>\n",
       "      <td>IC</td>\n",
       "      <td>Invest Cont</td>\n",
       "      <td>740.0</td>\n",
       "      <td>NaN</td>\n",
       "      <td>NaN</td>\n",
       "      <td>NaN</td>\n",
       "      <td>SEPULVEDA                    BL</td>\n",
       "      <td>MANCHESTER                   AV</td>\n",
       "      <td>33.9599</td>\n",
       "      <td>-118.3962</td>\n",
       "    </tr>\n",
       "    <tr>\n",
       "      <th>2</th>\n",
       "      <td>70309629</td>\n",
       "      <td>08/09/2010 12:00:00 AM</td>\n",
       "      <td>08/09/2010 12:00:00 AM</td>\n",
       "      <td>1515</td>\n",
       "      <td>13</td>\n",
       "      <td>Newton</td>\n",
       "      <td>1324</td>\n",
       "      <td>2</td>\n",
       "      <td>946</td>\n",
       "      <td>OTHER MISCELLANEOUS CRIME</td>\n",
       "      <td>...</td>\n",
       "      <td>IC</td>\n",
       "      <td>Invest Cont</td>\n",
       "      <td>946.0</td>\n",
       "      <td>NaN</td>\n",
       "      <td>NaN</td>\n",
       "      <td>NaN</td>\n",
       "      <td>1300 E  21ST                         ST</td>\n",
       "      <td>NaN</td>\n",
       "      <td>34.0224</td>\n",
       "      <td>-118.2524</td>\n",
       "    </tr>\n",
       "    <tr>\n",
       "      <th>3</th>\n",
       "      <td>90631215</td>\n",
       "      <td>01/05/2010 12:00:00 AM</td>\n",
       "      <td>01/05/2010 12:00:00 AM</td>\n",
       "      <td>150</td>\n",
       "      <td>6</td>\n",
       "      <td>Hollywood</td>\n",
       "      <td>646</td>\n",
       "      <td>2</td>\n",
       "      <td>900</td>\n",
       "      <td>VIOLATION OF COURT ORDER</td>\n",
       "      <td>...</td>\n",
       "      <td>IC</td>\n",
       "      <td>Invest Cont</td>\n",
       "      <td>900.0</td>\n",
       "      <td>998.0</td>\n",
       "      <td>NaN</td>\n",
       "      <td>NaN</td>\n",
       "      <td>CAHUENGA                     BL</td>\n",
       "      <td>HOLLYWOOD                    BL</td>\n",
       "      <td>34.1016</td>\n",
       "      <td>-118.3295</td>\n",
       "    </tr>\n",
       "    <tr>\n",
       "      <th>4</th>\n",
       "      <td>100100501</td>\n",
       "      <td>01/03/2010 12:00:00 AM</td>\n",
       "      <td>01/02/2010 12:00:00 AM</td>\n",
       "      <td>2100</td>\n",
       "      <td>1</td>\n",
       "      <td>Central</td>\n",
       "      <td>176</td>\n",
       "      <td>1</td>\n",
       "      <td>122</td>\n",
       "      <td>RAPE, ATTEMPTED</td>\n",
       "      <td>...</td>\n",
       "      <td>IC</td>\n",
       "      <td>Invest Cont</td>\n",
       "      <td>122.0</td>\n",
       "      <td>NaN</td>\n",
       "      <td>NaN</td>\n",
       "      <td>NaN</td>\n",
       "      <td>8TH                          ST</td>\n",
       "      <td>SAN PEDRO                    ST</td>\n",
       "      <td>34.0387</td>\n",
       "      <td>-118.2488</td>\n",
       "    </tr>\n",
       "    <tr>\n",
       "      <th>...</th>\n",
       "      <td>...</td>\n",
       "      <td>...</td>\n",
       "      <td>...</td>\n",
       "      <td>...</td>\n",
       "      <td>...</td>\n",
       "      <td>...</td>\n",
       "      <td>...</td>\n",
       "      <td>...</td>\n",
       "      <td>...</td>\n",
       "      <td>...</td>\n",
       "      <td>...</td>\n",
       "      <td>...</td>\n",
       "      <td>...</td>\n",
       "      <td>...</td>\n",
       "      <td>...</td>\n",
       "      <td>...</td>\n",
       "      <td>...</td>\n",
       "      <td>...</td>\n",
       "      <td>...</td>\n",
       "      <td>...</td>\n",
       "      <td>...</td>\n",
       "    </tr>\n",
       "    <tr>\n",
       "      <th>2119792</th>\n",
       "      <td>190506304</td>\n",
       "      <td>02/22/2019 12:00:00 AM</td>\n",
       "      <td>02/22/2019 12:00:00 AM</td>\n",
       "      <td>840</td>\n",
       "      <td>5</td>\n",
       "      <td>Harbor</td>\n",
       "      <td>569</td>\n",
       "      <td>2</td>\n",
       "      <td>627</td>\n",
       "      <td>CHILD ABUSE (PHYSICAL) - SIMPLE ASSAULT</td>\n",
       "      <td>...</td>\n",
       "      <td>AO</td>\n",
       "      <td>Adult Other</td>\n",
       "      <td>627.0</td>\n",
       "      <td>NaN</td>\n",
       "      <td>NaN</td>\n",
       "      <td>NaN</td>\n",
       "      <td>100 W  22ND                         ST</td>\n",
       "      <td>NaN</td>\n",
       "      <td>33.7257</td>\n",
       "      <td>-118.2801</td>\n",
       "    </tr>\n",
       "    <tr>\n",
       "      <th>2119793</th>\n",
       "      <td>190608903</td>\n",
       "      <td>03/28/2019 12:00:00 AM</td>\n",
       "      <td>03/28/2019 12:00:00 AM</td>\n",
       "      <td>400</td>\n",
       "      <td>6</td>\n",
       "      <td>Hollywood</td>\n",
       "      <td>644</td>\n",
       "      <td>1</td>\n",
       "      <td>648</td>\n",
       "      <td>ARSON</td>\n",
       "      <td>...</td>\n",
       "      <td>IC</td>\n",
       "      <td>Invest Cont</td>\n",
       "      <td>648.0</td>\n",
       "      <td>NaN</td>\n",
       "      <td>NaN</td>\n",
       "      <td>NaN</td>\n",
       "      <td>1400 N  LA BREA                      AV</td>\n",
       "      <td>NaN</td>\n",
       "      <td>34.0962</td>\n",
       "      <td>-118.3490</td>\n",
       "    </tr>\n",
       "    <tr>\n",
       "      <th>2119794</th>\n",
       "      <td>192004409</td>\n",
       "      <td>01/06/2019 12:00:00 AM</td>\n",
       "      <td>01/06/2019 12:00:00 AM</td>\n",
       "      <td>2100</td>\n",
       "      <td>20</td>\n",
       "      <td>Olympic</td>\n",
       "      <td>2029</td>\n",
       "      <td>2</td>\n",
       "      <td>930</td>\n",
       "      <td>CRIMINAL THREATS - NO WEAPON DISPLAYED</td>\n",
       "      <td>...</td>\n",
       "      <td>IC</td>\n",
       "      <td>Invest Cont</td>\n",
       "      <td>930.0</td>\n",
       "      <td>NaN</td>\n",
       "      <td>NaN</td>\n",
       "      <td>NaN</td>\n",
       "      <td>6TH</td>\n",
       "      <td>VIRGIL</td>\n",
       "      <td>34.0637</td>\n",
       "      <td>-118.2870</td>\n",
       "    </tr>\n",
       "    <tr>\n",
       "      <th>2119795</th>\n",
       "      <td>191716777</td>\n",
       "      <td>10/17/2019 12:00:00 AM</td>\n",
       "      <td>10/16/2019 12:00:00 AM</td>\n",
       "      <td>1800</td>\n",
       "      <td>17</td>\n",
       "      <td>Devonshire</td>\n",
       "      <td>1795</td>\n",
       "      <td>1</td>\n",
       "      <td>420</td>\n",
       "      <td>THEFT FROM MOTOR VEHICLE - PETTY ($950 &amp; UNDER)</td>\n",
       "      <td>...</td>\n",
       "      <td>IC</td>\n",
       "      <td>Invest Cont</td>\n",
       "      <td>420.0</td>\n",
       "      <td>NaN</td>\n",
       "      <td>NaN</td>\n",
       "      <td>NaN</td>\n",
       "      <td>17200    NAPA                         ST</td>\n",
       "      <td>NaN</td>\n",
       "      <td>34.2266</td>\n",
       "      <td>-118.5085</td>\n",
       "    </tr>\n",
       "    <tr>\n",
       "      <th>2119796</th>\n",
       "      <td>190805435</td>\n",
       "      <td>02/01/2019 12:00:00 AM</td>\n",
       "      <td>02/01/2019 12:00:00 AM</td>\n",
       "      <td>1615</td>\n",
       "      <td>8</td>\n",
       "      <td>West LA</td>\n",
       "      <td>852</td>\n",
       "      <td>1</td>\n",
       "      <td>330</td>\n",
       "      <td>BURGLARY FROM VEHICLE</td>\n",
       "      <td>...</td>\n",
       "      <td>IC</td>\n",
       "      <td>Invest Cont</td>\n",
       "      <td>330.0</td>\n",
       "      <td>NaN</td>\n",
       "      <td>NaN</td>\n",
       "      <td>NaN</td>\n",
       "      <td>1700    BARRY                        AV</td>\n",
       "      <td>NaN</td>\n",
       "      <td>34.0420</td>\n",
       "      <td>-118.4531</td>\n",
       "    </tr>\n",
       "  </tbody>\n",
       "</table>\n",
       "<p>2119797 rows × 28 columns</p>\n",
       "</div>"
      ],
      "text/plain": [
       "             DR_NO               Date Rptd                DATE OCC  TIME OCC  \\\n",
       "0          1307355  02/20/2010 12:00:00 AM  02/20/2010 12:00:00 AM      1350   \n",
       "1         11401303  09/13/2010 12:00:00 AM  09/12/2010 12:00:00 AM        45   \n",
       "2         70309629  08/09/2010 12:00:00 AM  08/09/2010 12:00:00 AM      1515   \n",
       "3         90631215  01/05/2010 12:00:00 AM  01/05/2010 12:00:00 AM       150   \n",
       "4        100100501  01/03/2010 12:00:00 AM  01/02/2010 12:00:00 AM      2100   \n",
       "...            ...                     ...                     ...       ...   \n",
       "2119792  190506304  02/22/2019 12:00:00 AM  02/22/2019 12:00:00 AM       840   \n",
       "2119793  190608903  03/28/2019 12:00:00 AM  03/28/2019 12:00:00 AM       400   \n",
       "2119794  192004409  01/06/2019 12:00:00 AM  01/06/2019 12:00:00 AM      2100   \n",
       "2119795  191716777  10/17/2019 12:00:00 AM  10/16/2019 12:00:00 AM      1800   \n",
       "2119796  190805435  02/01/2019 12:00:00 AM  02/01/2019 12:00:00 AM      1615   \n",
       "\n",
       "         AREA    AREA NAME  Rpt Dist No  Part 1-2  Crm Cd  \\\n",
       "0           13      Newton         1385         2     900   \n",
       "1           14     Pacific         1485         2     740   \n",
       "2           13      Newton         1324         2     946   \n",
       "3            6   Hollywood          646         2     900   \n",
       "4            1     Central          176         1     122   \n",
       "...        ...         ...          ...       ...     ...   \n",
       "2119792      5      Harbor          569         2     627   \n",
       "2119793      6   Hollywood          644         1     648   \n",
       "2119794     20     Olympic         2029         2     930   \n",
       "2119795     17  Devonshire         1795         1     420   \n",
       "2119796      8     West LA          852         1     330   \n",
       "\n",
       "                                               Crm Cd Desc  ... Status  \\\n",
       "0                                 VIOLATION OF COURT ORDER  ...     AA   \n",
       "1        VANDALISM - FELONY ($400 & OVER, ALL CHURCH VA...  ...     IC   \n",
       "2                                OTHER MISCELLANEOUS CRIME  ...     IC   \n",
       "3                                 VIOLATION OF COURT ORDER  ...     IC   \n",
       "4                                          RAPE, ATTEMPTED  ...     IC   \n",
       "...                                                    ...  ...    ...   \n",
       "2119792            CHILD ABUSE (PHYSICAL) - SIMPLE ASSAULT  ...     AO   \n",
       "2119793                                              ARSON  ...     IC   \n",
       "2119794             CRIMINAL THREATS - NO WEAPON DISPLAYED  ...     IC   \n",
       "2119795    THEFT FROM MOTOR VEHICLE - PETTY ($950 & UNDER)  ...     IC   \n",
       "2119796                              BURGLARY FROM VEHICLE  ...     IC   \n",
       "\n",
       "          Status Desc Crm Cd 1 Crm Cd 2  Crm Cd 3 Crm Cd 4  \\\n",
       "0        Adult Arrest    900.0      NaN       NaN      NaN   \n",
       "1         Invest Cont    740.0      NaN       NaN      NaN   \n",
       "2         Invest Cont    946.0      NaN       NaN      NaN   \n",
       "3         Invest Cont    900.0    998.0       NaN      NaN   \n",
       "4         Invest Cont    122.0      NaN       NaN      NaN   \n",
       "...               ...      ...      ...       ...      ...   \n",
       "2119792   Adult Other    627.0      NaN       NaN      NaN   \n",
       "2119793   Invest Cont    648.0      NaN       NaN      NaN   \n",
       "2119794   Invest Cont    930.0      NaN       NaN      NaN   \n",
       "2119795   Invest Cont    420.0      NaN       NaN      NaN   \n",
       "2119796   Invest Cont    330.0      NaN       NaN      NaN   \n",
       "\n",
       "                                         LOCATION  \\\n",
       "0          300 E  GAGE                         AV   \n",
       "1                 SEPULVEDA                    BL   \n",
       "2         1300 E  21ST                         ST   \n",
       "3                 CAHUENGA                     BL   \n",
       "4                 8TH                          ST   \n",
       "...                                           ...   \n",
       "2119792    100 W  22ND                         ST   \n",
       "2119793   1400 N  LA BREA                      AV   \n",
       "2119794                                       6TH   \n",
       "2119795  17200    NAPA                         ST   \n",
       "2119796   1700    BARRY                        AV   \n",
       "\n",
       "                            Cross Street      LAT       LON  \n",
       "0                                    NaN  33.9825 -118.2695  \n",
       "1        MANCHESTER                   AV  33.9599 -118.3962  \n",
       "2                                    NaN  34.0224 -118.2524  \n",
       "3        HOLLYWOOD                    BL  34.1016 -118.3295  \n",
       "4        SAN PEDRO                    ST  34.0387 -118.2488  \n",
       "...                                  ...      ...       ...  \n",
       "2119792                              NaN  33.7257 -118.2801  \n",
       "2119793                              NaN  34.0962 -118.3490  \n",
       "2119794                           VIRGIL  34.0637 -118.2870  \n",
       "2119795                              NaN  34.2266 -118.5085  \n",
       "2119796                              NaN  34.0420 -118.4531  \n",
       "\n",
       "[2119797 rows x 28 columns]"
      ]
     },
     "execution_count": 39,
     "metadata": {},
     "output_type": "execute_result"
    }
   ],
   "source": [
    "crime_df"
   ]
  },
  {
   "cell_type": "code",
   "execution_count": 40,
   "id": "7a56808a",
   "metadata": {},
   "outputs": [],
   "source": [
    "crime_df = crime_df[[\"DR_NO\", \"Date Rptd\",\"TIME OCC\",\"Crm Cd Desc\",\"LAT\",\"LON\",\"AREA NAME\"]]"
   ]
  },
  {
   "cell_type": "code",
   "execution_count": 41,
   "id": "0f582276",
   "metadata": {},
   "outputs": [],
   "source": [
    "crime_df = crime_df.rename(columns = {\"AREA NAME\":\"AREANAME\"})"
   ]
  },
  {
   "cell_type": "code",
   "execution_count": 42,
   "id": "7faf8b6a",
   "metadata": {},
   "outputs": [],
   "source": [
    "crime_df = crime_df[(crime_df.AREANAME  == \"77th Street\") | (crime_df.AREANAME  == \"Southwest\") | (crime_df.AREANAME  == \"N Hollywood\")]"
   ]
  },
  {
   "cell_type": "code",
   "execution_count": 43,
   "id": "0cdea834",
   "metadata": {},
   "outputs": [
    {
     "data": {
      "text/plain": [
       "395458"
      ]
     },
     "execution_count": 43,
     "metadata": {},
     "output_type": "execute_result"
    }
   ],
   "source": [
    "(crime_df[crime_df.AREANAME == \"77th Street\"].shape[0]) +(crime_df[crime_df.AREANAME == \"Southwest\"].shape[0]) + (crime_df[crime_df.AREANAME == \"N Hollywood\"].shape[0]) "
   ]
  },
  {
   "cell_type": "code",
   "execution_count": 44,
   "id": "68229883",
   "metadata": {},
   "outputs": [],
   "source": [
    "crime_df = crime_df[(crime_df.LON!=0.0) | (crime_df.LAT!=0.0)]"
   ]
  },
  {
   "cell_type": "code",
   "execution_count": 45,
   "id": "3283ee7e",
   "metadata": {},
   "outputs": [],
   "source": [
    "crime_latlong = crime_df[['LAT','LON']]"
   ]
  },
  {
   "cell_type": "code",
   "execution_count": 46,
   "id": "ea05c498",
   "metadata": {},
   "outputs": [],
   "source": [
    "import pandas as pd\n",
    "import matplotlib.pyplot as plt\n",
    "from sklearn.cluster import KMeans\n",
    "import sklearn\n",
    "from sklearn.mixture import GaussianMixture"
   ]
  },
  {
   "cell_type": "markdown",
   "id": "6e182d75",
   "metadata": {},
   "source": [
    "### K Means Algortihm using Pandas Library"
   ]
  },
  {
   "cell_type": "code",
   "execution_count": 47,
   "id": "86047820",
   "metadata": {},
   "outputs": [
    {
     "name": "stdout",
     "output_type": "stream",
     "text": [
      "[[  34.17271894 -118.3857469 ]\n",
      " [  34.01549486 -118.32095373]\n",
      " [  33.97752686 -118.29236076]]\n"
     ]
    }
   ],
   "source": [
    "model = KMeans(n_clusters=3)\n",
    "kmeans = model.fit(crime_latlong)\n",
    "centroids = kmeans.cluster_centers_\n",
    "print(centroids)"
   ]
  },
  {
   "cell_type": "code",
   "execution_count": 48,
   "id": "67c3fb0a",
   "metadata": {},
   "outputs": [
    {
     "name": "stdout",
     "output_type": "stream",
     "text": [
      "Execution time for Kmeans in Pandas: 2.0149924755096436\n"
     ]
    }
   ],
   "source": [
    "startTime = time.time()\n",
    "\n",
    "model = KMeans(n_clusters=3)\n",
    "kmeans = model.fit(crime_latlong)\n",
    "predictions = kmeans.predict(crime_latlong)\n",
    "\n",
    "executionTime = (time.time() - startTime)\n",
    "\n",
    "print('Execution time for Kmeans in Pandas: ' + str(executionTime))"
   ]
  },
  {
   "cell_type": "markdown",
   "id": "5c05a46d",
   "metadata": {},
   "source": [
    "### Gaussian Mixture Model Algortihm using Pandas Library"
   ]
  },
  {
   "cell_type": "code",
   "execution_count": 49,
   "id": "e814a092",
   "metadata": {},
   "outputs": [
    {
     "name": "stdout",
     "output_type": "stream",
     "text": [
      "Execution time for Gaussian Mixture in Pandas: 2.2787320613861084\n"
     ]
    }
   ],
   "source": [
    "\n",
    "startTime = time.time()\n",
    "\n",
    "\n",
    "GMM = GaussianMixture(n_components=3, random_state=0).fit(crime_latlong)\n",
    "gmm_pred = GMM.predict(crime_latlong)\n",
    "\n",
    "executionTime = (time.time() - startTime)\n",
    "print('Execution time for Gaussian Mixture in Pandas: ' + str(executionTime))"
   ]
  },
  {
   "cell_type": "markdown",
   "id": "cf5bd329",
   "metadata": {},
   "source": [
    "### Bisecting K Means Algortihm using Pandas Library"
   ]
  },
  {
   "cell_type": "code",
   "execution_count": 50,
   "id": "28f63adf",
   "metadata": {},
   "outputs": [
    {
     "name": "stdout",
     "output_type": "stream",
     "text": [
      "Execution time for Bisecting KMeans in Pandas: 2.161618232727051\n"
     ]
    }
   ],
   "source": [
    "startTime = time.time()\n",
    "\n",
    "model = KMeans(init='k-means++',n_clusters=3)\n",
    "bikmeans = model.fit(crime_latlong)\n",
    "predictions = bikmeans.predict(crime_latlong)\n",
    "\n",
    "executionTime = (time.time() - startTime)\n",
    "\n",
    "print('Execution time for Bisecting KMeans in Pandas: ' + str(executionTime))"
   ]
  }
 ],
 "metadata": {
  "kernelspec": {
   "display_name": "Python 3 (ipykernel)",
   "language": "python",
   "name": "python3"
  },
  "language_info": {
   "codemirror_mode": {
    "name": "ipython",
    "version": 3
   },
   "file_extension": ".py",
   "mimetype": "text/x-python",
   "name": "python",
   "nbconvert_exporter": "python",
   "pygments_lexer": "ipython3",
   "version": "3.9.7"
  }
 },
 "nbformat": 4,
 "nbformat_minor": 5
}
